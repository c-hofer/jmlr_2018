{
 "cells": [
  {
   "cell_type": "code",
   "execution_count": 1,
   "metadata": {},
   "outputs": [
    {
     "name": "stderr",
     "output_type": "stream",
     "text": [
      "/scratch2/chofer/opt/anaconda3/lib/python3.6/site-packages/h5py/__init__.py:36: FutureWarning: Conversion of the second argument of issubdtype from `float` to `np.floating` is deprecated. In future, it will be treated as `np.float64 == np.dtype(float).type`.\n",
      "  from ._conv import register_converters as _register_converters\n"
     ]
    }
   ],
   "source": [
    "from chofer_tda_datasets import SciNe01EEGRawSignal\n",
    "from sklearn.model_selection import StratifiedShuffleSplit, GridSearchCV\n",
    "from sklearn.svm import LinearSVC\n",
    "from sklearn.metrics import accuracy_score\n",
    "from sklearn.pipeline import Pipeline\n",
    "from sklearn.preprocessing import StandardScaler\n",
    "from sklearn.decomposition import PCA\n",
    "from collections import Counter\n",
    "from collections import defaultdict\n",
    "\n",
    "\n",
    "class train_env:\n",
    "    train_size= 0.9\n",
    "\n",
    "def svm_linear_standard_scaled_pca_c_optimized(pca_n_components):\n",
    "    grid = {'C': [0.1, 1, 10, 100]}\n",
    "    clf = GridSearchCV(cv=3, \n",
    "                       estimator=LinearSVC(),\n",
    "                       param_grid=grid, \n",
    "                       n_jobs=10\n",
    "                       )\n",
    "    scaler = StandardScaler()\n",
    "    pca = PCA(pca_n_components)\n",
    "    return Pipeline([('scaler', scaler), ('pca', pca), ('clf', clf)])"
   ]
  },
  {
   "cell_type": "code",
   "execution_count": 2,
   "metadata": {},
   "outputs": [],
   "source": [
    "dataset = SciNe01EEGRawSignal(data_root_folder_path='/scratch1/chofer/jmlr2018_data/')\n",
    "sensor_indices = [str(i) for i in dataset.sensor_configurations['low_resolution_whole_head']]\n",
    "dataset.data_transforms = [\n",
    "                           lambda x: [x[i].value for i in sensor_indices], \n",
    "                           lambda x: np.concatenate(x, axis=0)\n",
    "                           ]\n",
    "\n",
    "dataset.target_transforms = [lambda x: int(x)]"
   ]
  },
  {
   "cell_type": "code",
   "execution_count": 6,
   "metadata": {},
   "outputs": [],
   "source": [
    "def experiment_pca_linear_svm():\n",
    "    X, y = [], []\n",
    "    print('loading data ... ')\n",
    "    for i, (x_i, y_i) in enumerate(dataset):\n",
    "        X.append(x_i)\n",
    "        y.append(y_i)\n",
    "        print(i, end='\\r')    \n",
    "    print('')\n",
    "    \n",
    "    X = np.stack(X, axis=0)\n",
    "    y = np.array(y)\n",
    "    \n",
    "    splitter = StratifiedShuffleSplit(n_splits=10, \n",
    "                                      train_size=train_env.train_size, \n",
    "                                      test_size=1-train_env.train_size, \n",
    "                                      random_state=123)\n",
    "\n",
    "    \n",
    "    stats_of_runs = []   \n",
    "\n",
    "    for fold_i, (train_i, test_i) in enumerate(splitter.split(y, y)):\n",
    "        print(fold_i, end='\\r')\n",
    "        stats = defaultdict(list)\n",
    "        stats_of_runs.append(stats)\n",
    "\n",
    "        classifier = svm_linear_standard_scaled_pca_c_optimized(250)\n",
    "\n",
    "\n",
    "        X_train = X[train_i, :]\n",
    "        X_test  = X[test_i, :]   \n",
    "\n",
    "        y_train = y[train_i]\n",
    "        y_test = y[test_i]\n",
    "\n",
    "#         X_train = pca.transform(X_train)\n",
    "#         X_test = pca.transform(X_test)    \n",
    "\n",
    "        classifier.fit(X_train, y_train) \n",
    "\n",
    "        y_pred = classifier.predict(X_test)\n",
    "        y_true = y[test_i]\n",
    "        \n",
    "        stats['y_pred'] = y_pred\n",
    "        stats['y_true'] = y_true\n",
    "        \n",
    "        stats['cls'] = classifier\n",
    "        \n",
    "        stats['accuracy'] = accuracy_score(y_pred, y_true)\n",
    "\n",
    "    return dict(stats_of_runs)\n"
   ]
  },
  {
   "cell_type": "code",
   "execution_count": 7,
   "metadata": {},
   "outputs": [
    {
     "name": "stdout",
     "output_type": "stream",
     "text": [
      "loading data ... \n",
      "31499\n",
      "0\r"
     ]
    },
    {
     "ename": "NameError",
     "evalue": "name 'pca' is not defined",
     "output_type": "error",
     "traceback": [
      "\u001b[0;31m---------------------------------------------------------------------------\u001b[0m",
      "\u001b[0;31mNameError\u001b[0m                                 Traceback (most recent call last)",
      "\u001b[0;32m<ipython-input-7-362666680735>\u001b[0m in \u001b[0;36m<module>\u001b[0;34m()\u001b[0m\n\u001b[0;32m----> 1\u001b[0;31m \u001b[0mstats_of_runs\u001b[0m \u001b[0;34m=\u001b[0m \u001b[0mexperiment_pca_linear_svm\u001b[0m\u001b[0;34m(\u001b[0m\u001b[0;34m)\u001b[0m\u001b[0;34m\u001b[0m\u001b[0m\n\u001b[0m",
      "\u001b[0;32m<ipython-input-6-393294a625a7>\u001b[0m in \u001b[0;36mexperiment_pca_linear_svm\u001b[0;34m()\u001b[0m\n\u001b[1;32m     45\u001b[0m \u001b[0;34m\u001b[0m\u001b[0m\n\u001b[1;32m     46\u001b[0m         \u001b[0mstats\u001b[0m\u001b[0;34m[\u001b[0m\u001b[0;34m'cls'\u001b[0m\u001b[0;34m]\u001b[0m \u001b[0;34m=\u001b[0m \u001b[0mclassifier\u001b[0m\u001b[0;34m\u001b[0m\u001b[0m\n\u001b[0;32m---> 47\u001b[0;31m         \u001b[0mstats\u001b[0m\u001b[0;34m[\u001b[0m\u001b[0;34m'pca'\u001b[0m\u001b[0;34m]\u001b[0m \u001b[0;34m=\u001b[0m \u001b[0mpca\u001b[0m\u001b[0;34m\u001b[0m\u001b[0m\n\u001b[0m\u001b[1;32m     48\u001b[0m \u001b[0;34m\u001b[0m\u001b[0m\n\u001b[1;32m     49\u001b[0m         \u001b[0mstats\u001b[0m\u001b[0;34m[\u001b[0m\u001b[0;34m'accuracy'\u001b[0m\u001b[0;34m]\u001b[0m \u001b[0;34m=\u001b[0m \u001b[0maccuracy_score\u001b[0m\u001b[0;34m(\u001b[0m\u001b[0my_pred\u001b[0m\u001b[0;34m,\u001b[0m \u001b[0my_true\u001b[0m\u001b[0;34m)\u001b[0m\u001b[0;34m\u001b[0m\u001b[0m\n",
      "\u001b[0;31mNameError\u001b[0m: name 'pca' is not defined"
     ]
    }
   ],
   "source": [
    "stats_of_runs = experiment_pca_linear_svm()"
   ]
  },
  {
   "cell_type": "code",
   "execution_count": 11,
   "metadata": {},
   "outputs": [],
   "source": [
    "with open('./scitrecs_eeg_linear_svm_no_feature_map.res.pickle', 'bw') as f:\n",
    "    pickle.dump(stats_of_runs, f)"
   ]
  },
  {
   "cell_type": "code",
   "execution_count": 2,
   "metadata": {},
   "outputs": [],
   "source": [
    "with open('./scitrecs_eeg_linear_svm_no_feature_map.res.pickle', 'br') as f:\n",
    "    stats_of_runs = pickle.load(f)"
   ]
  },
  {
   "cell_type": "code",
   "execution_count": 16,
   "metadata": {},
   "outputs": [
    {
     "name": "stdout",
     "output_type": "stream",
     "text": [
      "0.3025714285714286\n",
      "0.009482928130378614\n"
     ]
    },
    {
     "data": {
      "text/plain": [
       "[0.30444444444444446,\n",
       " 0.29428571428571426,\n",
       " 0.2980952380952381,\n",
       " 0.3215873015873016,\n",
       " 0.2974603174603175,\n",
       " 0.31174603174603177,\n",
       " 0.3057142857142857,\n",
       " 0.31015873015873013,\n",
       " 0.2926984126984127,\n",
       " 0.2895238095238095]"
      ]
     },
     "execution_count": 16,
     "metadata": {},
     "output_type": "execute_result"
    }
   ],
   "source": [
    "print(np.mean([stats['accuracy'] for stats in stats_of_runs]))\n",
    "print(np.std([stats['accuracy'] for stats in stats_of_runs]))\n",
    "[stats['accuracy'] for stats in stats_of_runs]"
   ]
  },
  {
   "cell_type": "code",
   "execution_count": 10,
   "metadata": {},
   "outputs": [
    {
     "data": {
      "text/plain": [
       "array([3.10282520e+03, 6.55099243e+02, 2.07885391e+02, 1.84420227e+02,\n",
       "       1.62664078e+02, 1.19688171e+02, 9.82014771e+01, 7.95261993e+01,\n",
       "       6.49339676e+01, 6.13269081e+01, 5.82398491e+01, 5.05818901e+01,\n",
       "       3.94886932e+01, 2.97255802e+01, 2.31220150e+01, 2.17021217e+01,\n",
       "       1.68323402e+01, 8.68282604e+00, 8.16550255e+00, 6.84132528e+00,\n",
       "       7.08792508e-02, 5.73409200e-02, 1.60381105e-02, 8.90620053e-03,\n",
       "       6.59557479e-03, 6.29472779e-03, 5.94128249e-03, 5.76087460e-03,\n",
       "       4.98256320e-03, 3.76743195e-03, 3.32595850e-03, 3.22502758e-03,\n",
       "       2.22978694e-03, 2.00133328e-03, 1.73001003e-03, 1.50749518e-03,\n",
       "       1.28525717e-03, 1.17358810e-03, 1.01684104e-03, 9.24938417e-04,\n",
       "       8.89731280e-04, 8.33277532e-04, 7.91701255e-04, 7.25527818e-04,\n",
       "       6.85579143e-04, 6.38582220e-04, 5.85293863e-04, 5.42381371e-04,\n",
       "       5.29573124e-04, 5.26049116e-04, 5.10486134e-04, 5.02557959e-04,\n",
       "       4.57578019e-04, 4.42398828e-04, 4.36235918e-04, 3.91904294e-04,\n",
       "       3.61364568e-04, 3.28534195e-04, 3.13516328e-04, 3.01382912e-04,\n",
       "       2.82940891e-04, 2.76623789e-04, 2.61819805e-04, 2.50479323e-04,\n",
       "       2.43447837e-04, 2.35330561e-04, 2.23074021e-04, 2.16513174e-04,\n",
       "       2.11432998e-04, 2.04971424e-04, 1.93552711e-04, 1.89241415e-04,\n",
       "       1.72559114e-04, 1.64430763e-04, 1.57513437e-04, 1.50838343e-04,\n",
       "       1.46481310e-04, 1.41566037e-04, 1.37093069e-04, 1.31477515e-04,\n",
       "       1.30765678e-04, 1.25308579e-04, 1.22188780e-04, 1.21953344e-04,\n",
       "       1.19848053e-04, 1.18196425e-04, 1.15369985e-04, 1.11761750e-04,\n",
       "       1.11368325e-04, 1.08193315e-04, 1.04162413e-04, 1.00853307e-04,\n",
       "       9.85631268e-05, 9.75997245e-05, 9.67058950e-05, 9.60239340e-05,\n",
       "       9.52958362e-05, 9.26420544e-05, 9.02125830e-05, 8.58761778e-05,\n",
       "       8.50505749e-05, 8.33415688e-05, 8.26389951e-05, 8.15236926e-05,\n",
       "       8.03022413e-05, 7.77988753e-05, 7.71248233e-05, 7.66865414e-05,\n",
       "       7.51429543e-05, 7.39414681e-05, 7.14960115e-05, 6.96667485e-05,\n",
       "       6.85976847e-05, 6.76805939e-05, 6.74303737e-05, 6.44550455e-05,\n",
       "       6.36500772e-05, 6.28029084e-05, 6.13355660e-05, 6.01033316e-05,\n",
       "       5.95328092e-05, 5.86501410e-05, 5.73359539e-05, 5.65096161e-05,\n",
       "       5.61791421e-05, 5.43752685e-05, 5.32256163e-05, 5.14688509e-05,\n",
       "       4.88182304e-05, 4.71659441e-05, 4.57702481e-05, 4.56049274e-05,\n",
       "       4.40889889e-05, 4.24528225e-05, 4.06910294e-05, 4.01877005e-05,\n",
       "       3.95049756e-05, 3.85968415e-05, 3.73214643e-05, 3.62682986e-05,\n",
       "       3.57954086e-05, 3.47899550e-05, 3.38337341e-05, 3.35661098e-05,\n",
       "       3.29254435e-05, 3.15415746e-05, 3.10863470e-05, 3.08358067e-05,\n",
       "       3.05603935e-05, 3.00840875e-05, 2.99274343e-05, 2.89983982e-05,\n",
       "       2.87390449e-05, 2.84521684e-05, 2.80054846e-05, 2.76436094e-05,\n",
       "       2.72722937e-05, 2.70817654e-05, 2.67951527e-05, 2.66411371e-05,\n",
       "       2.64775190e-05, 2.62847570e-05, 2.60822308e-05, 2.59912722e-05,\n",
       "       2.58946602e-05, 2.54569022e-05, 2.53916278e-05, 2.53699582e-05,\n",
       "       2.50857720e-05, 2.47273747e-05, 2.45023130e-05, 2.43127015e-05,\n",
       "       2.42581627e-05, 2.38893044e-05, 2.35564385e-05, 2.35187072e-05,\n",
       "       2.33408518e-05, 2.30346614e-05, 2.28732370e-05, 2.28616464e-05,\n",
       "       2.23610186e-05, 2.22545168e-05, 2.22156941e-05, 2.18716505e-05,\n",
       "       2.16705430e-05, 2.15819382e-05, 2.14130014e-05, 2.12987052e-05,\n",
       "       2.11000424e-05, 2.08295187e-05, 2.07523135e-05, 2.05960096e-05,\n",
       "       2.03855252e-05, 2.02138381e-05, 2.00076574e-05, 1.98176185e-05,\n",
       "       1.97177415e-05, 1.95816974e-05, 1.95012144e-05, 1.91748022e-05,\n",
       "       1.91523814e-05, 1.90412247e-05, 1.87522528e-05, 1.87184087e-05,\n",
       "       1.84071559e-05, 1.82227759e-05, 1.82051699e-05, 1.80318511e-05,\n",
       "       1.79268445e-05, 1.77292350e-05, 1.75949954e-05, 1.74959077e-05,\n",
       "       1.73433218e-05, 1.71649153e-05, 1.71361662e-05, 1.70908315e-05,\n",
       "       1.70524872e-05, 1.67652270e-05, 1.67181261e-05, 1.66654299e-05,\n",
       "       1.64956346e-05, 1.61813350e-05, 1.61325534e-05, 1.60931231e-05,\n",
       "       1.59814335e-05, 1.57677459e-05, 1.55793314e-05, 1.54965182e-05,\n",
       "       1.53296733e-05, 1.52940847e-05, 1.52460225e-05, 1.51546074e-05,\n",
       "       1.50816031e-05, 1.50536061e-05, 1.49911493e-05, 1.49119478e-05,\n",
       "       1.48165291e-05, 1.44650985e-05, 1.44507494e-05, 1.43814932e-05,\n",
       "       1.42017316e-05, 1.41077417e-05, 1.39672056e-05, 1.38672058e-05,\n",
       "       1.38622681e-05, 1.37992083e-05, 1.37216120e-05, 1.37050101e-05,\n",
       "       1.34427355e-05, 1.33173780e-05], dtype=float32)"
      ]
     },
     "execution_count": 10,
     "metadata": {},
     "output_type": "execute_result"
    }
   ],
   "source": [
    "pca = stats_of_runs[0]['cls'].named_steps['pca']\n",
    "pca.explained_variance_"
   ]
  },
  {
   "cell_type": "code",
   "execution_count": 11,
   "metadata": {},
   "outputs": [
    {
     "data": {
      "text/plain": [
       "[<matplotlib.lines.Line2D at 0x7efbf2df9da0>]"
      ]
     },
     "execution_count": 11,
     "metadata": {},
     "output_type": "execute_result"
    },
    {
     "data": {
      "image/png": "[encoded data removed]",
      "text/plain": [
       "<Figure size 432x288 with 1 Axes>"
      ]
     },
     "metadata": {},
     "output_type": "display_data"
    }
   ],
   "source": [
    "stats = stats_of_runs[0]\n",
    "cls = stats['cls']\n",
    "pca = cls.steps[1][1]\n",
    "pca.explained_variance_ratio_\n",
    "\n",
    "plt.plot(pca.explained_variance_ratio_, 'bo')"
   ]
  },
  {
   "cell_type": "code",
   "execution_count": 14,
   "metadata": {},
   "outputs": [
    {
     "data": {
      "text/plain": [
       "[<matplotlib.lines.Line2D at 0x7efbf1e9a128>]"
      ]
     },
     "execution_count": 14,
     "metadata": {},
     "output_type": "execute_result"
    },
    {
     "data": {
      "image/png": "[encoded data removed]",
      "text/plain": [
       "<Figure size 432x288 with 1 Axes>"
      ]
     },
     "metadata": {},
     "output_type": "display_data"
    }
   ],
   "source": [
    "plt.plot(np.cumsum(pca.explained_variance_ratio_))"
   ]
  },
  {
   "cell_type": "code",
   "execution_count": null,
   "metadata": {},
   "outputs": [],
   "source": []
  }
 ],
 "metadata": {
  "kernelspec": {
   "display_name": "Python 3",
   "language": "python",
   "name": "python3"
  },
  "language_info": {
   "codemirror_mode": {
    "name": "ipython",
    "version": 3
   },
   "file_extension": ".py",
   "mimetype": "text/x-python",
   "name": "python",
   "nbconvert_exporter": "python",
   "pygments_lexer": "ipython3",
   "version": "3.6.4"
  }
 },
 "nbformat": 4,
 "nbformat_minor": 2
}
