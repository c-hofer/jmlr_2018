{
 "cells": [
  {
   "cell_type": "code",
   "execution_count": 22,
   "metadata": {},
   "outputs": [],
   "source": [
    "from chofer_tda_datasets import SciNe01EEGRawSignal\n",
    "from chofer_tda_datasets.transforms import Hdf5GroupToDict\n",
    "from chofer_torchex.utils.functional import collection_cascade"
   ]
  },
  {
   "cell_type": "code",
   "execution_count": 34,
   "metadata": {},
   "outputs": [],
   "source": [
    "ds = SciNe01EEGRawSignal('/scratch1/chofer/jmlr2018_data/')\n",
    "ds.data_transforms = [Hdf5GroupToDict(), \n",
    "#                       lambda x: collection_cascade(x,\n",
    "#                                                    lambda a: isinstance(a, np.ndarray),\n",
    "#                                                    lambda a: (a - np.mean(a))/ np.std(a))\n",
    "                     ]"
   ]
  },
  {
   "cell_type": "code",
   "execution_count": 46,
   "metadata": {},
   "outputs": [],
   "source": [
    "file_stub = '/tmp/eeg_signals/id_{}.np'\n",
    "if not os.path.exists(os.path.dirname(file_stub)):\n",
    "    os.mkdir(os.path.dirname(file_stub))\n",
    "\n",
    "selected_indices = [0, 1000, 2000, 3000]\n",
    "\n",
    "for i in selected_indices:\n",
    "    x, y =  ds[i]\n",
    "    x = np.stack([x[s_i] for s_i in sorted(x)], axis=0)\n",
    "    np.savetxt(file_stub.format(i), x)"
   ]
  }
 ],
 "metadata": {
  "kernelspec": {
   "display_name": "Python 3",
   "language": "python",
   "name": "python3"
  },
  "language_info": {
   "codemirror_mode": {
    "name": "ipython",
    "version": 3
   },
   "file_extension": ".py",
   "mimetype": "text/x-python",
   "name": "python",
   "nbconvert_exporter": "python",
   "pygments_lexer": "ipython3",
   "version": "3.6.4"
  }
 },
 "nbformat": 4,
 "nbformat_minor": 2
}
