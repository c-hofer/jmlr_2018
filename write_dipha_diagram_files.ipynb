{
 "cells": [
  {
   "cell_type": "code",
   "execution_count": 2,
   "metadata": {},
   "outputs": [],
   "source": [
    "from chofer_tda_datasets import Animal, Mpeg7, Reddit12kJmlr, Reddit5kJmlr, SciNe01EEGBottomTopFiltration\n",
    "from pershombox._software_backends.dipha_adapter import _PersistenceDiagramFile\n",
    "from chofer_tda_datasets.transforms import Hdf5GroupToDict, Hdf5GroupToDictSelector\n",
    "import os\n",
    "\n",
    "import config\n",
    "\n",
    "output_path = '/scratch_nas/chofer/jmlr2018_data/'"
   ]
  },
  {
   "cell_type": "code",
   "execution_count": 2,
   "metadata": {},
   "outputs": [
    {
     "name": "stdout",
     "output_type": "stream",
     "text": [
      "Found data!\n",
      "1999\n"
     ]
    }
   ],
   "source": [
    "def write_animal():\n",
    "    dataset = Animal(config.paths.data_root_dir)\n",
    "\n",
    "    folder_path = output_path + 'animal'\n",
    "    if not os.path.exists(folder_path):\n",
    "        os.mkdir(folder_path)\n",
    "\n",
    "    file_name_stub = folder_path + '/id_{}__dir_{}.dipha'    \n",
    "\n",
    "    labels = []\n",
    "    for i, (x, y) in enumerate(dataset):\n",
    "        labels.append(int(y))\n",
    "        for k, v in x.items():\n",
    "            if 'dim_0_' in k:\n",
    "                points = [(0, birth, death) for birth, death in v]\n",
    "                dgm = _PersistenceDiagramFile(points)            \n",
    "                path = file_name_stub.format(str(i), k.split('_')[-1])            \n",
    "                with open(path, 'bw') as f:\n",
    "                    dgm.write_to_binary_file(f)\n",
    "\n",
    "        print(i, end='\\r')\n",
    "    np.savetxt(folder_path + '/labels.np', np.array(labels))\n",
    "    print('')\n",
    "\n",
    "write_animal()    "
   ]
  },
  {
   "cell_type": "code",
   "execution_count": 3,
   "metadata": {},
   "outputs": [
    {
     "name": "stdout",
     "output_type": "stream",
     "text": [
      "Found data!\n",
      "1399\n"
     ]
    }
   ],
   "source": [
    "def write_mpeg7():\n",
    "    dataset = Mpeg7(config.paths.data_root_dir)\n",
    "\n",
    "    folder_path = output_path + 'mpeg7'\n",
    "    if not os.path.exists(folder_path):\n",
    "        os.mkdir(folder_path)\n",
    "\n",
    "    file_name_stub = folder_path + '/id_{}__dir_{}.dipha'    \n",
    "\n",
    "    labels = []\n",
    "    for i, (x, y) in enumerate(dataset):\n",
    "        labels.append(int(y))\n",
    "        for k, v in x.items():\n",
    "            if 'dim_0_' in k:\n",
    "                points = [(0, birth, death) for birth, death in v]\n",
    "                dgm = _PersistenceDiagramFile(points)            \n",
    "                path = file_name_stub.format(str(i), k.split('_')[-1])            \n",
    "                with open(path, 'bw') as f:\n",
    "                    dgm.write_to_binary_file(f)\n",
    "\n",
    "        print(i, end='\\r')\n",
    "    np.savetxt(folder_path + '/labels.np', np.array(labels))\n",
    "    print('')\n",
    "    \n",
    "write_mpeg7()\n"
   ]
  },
  {
   "cell_type": "code",
   "execution_count": 3,
   "metadata": {},
   "outputs": [],
   "source": [
    "def write_reddit(DataSetClass):\n",
    "    dataset = DataSetClass(config.paths.data_root_dir)\n",
    "    dataset.data_transforms = [Hdf5GroupToDict()]\n",
    "\n",
    "    folder_path = output_path + DataSetClass.__name__\n",
    "    if not os.path.exists(folder_path):\n",
    "        os.mkdir(folder_path)\n",
    "\n",
    "    file_name_stub = folder_path + '/id_{}__dim_0.dipha'    \n",
    "\n",
    "    labels = []\n",
    "    for i, (x, y) in enumerate(dataset):\n",
    "        labels.append(int(y))\n",
    "        dim_0 = x['dim_0']\n",
    "        \n",
    "        points = [(0, birth, death) for birth, death in dim_0]\n",
    "        dgm = _PersistenceDiagramFile(points)            \n",
    "        path = file_name_stub.format(str(i))            \n",
    "        with open(path, 'bw') as f:\n",
    "            dgm.write_to_binary_file(f)\n",
    "\n",
    "        print(i, end='\\r')\n",
    "    np.savetxt(folder_path + '/labels.np', np.array(labels))\n",
    "    print('')"
   ]
  },
  {
   "cell_type": "code",
   "execution_count": 4,
   "metadata": {},
   "outputs": [
    {
     "name": "stdout",
     "output_type": "stream",
     "text": [
      "4998\n"
     ]
    }
   ],
   "source": [
    "write_reddit(Reddit5kJmlr)"
   ]
  },
  {
   "cell_type": "code",
   "execution_count": 5,
   "metadata": {},
   "outputs": [
    {
     "name": "stdout",
     "output_type": "stream",
     "text": [
      "11928\n"
     ]
    }
   ],
   "source": [
    "write_reddit(Reddit12kJmlr)"
   ]
  },
  {
   "cell_type": "code",
   "execution_count": null,
   "metadata": {},
   "outputs": [
    {
     "name": "stdout",
     "output_type": "stream",
     "text": [
      "16631\r"
     ]
    }
   ],
   "source": [
    "def write_scine_eeg():\n",
    "    dataset = SciNe01EEGBottomTopFiltration('/scratch1/chofer/jmlr2018_data/')\n",
    "    \n",
    "    sensor_indices = [str(i) for i in dataset.sensor_configurations['low_resolution_whole_head']]\n",
    "    selection = {'top': sensor_indices, 'bottom': sensor_indices}\n",
    "    selector = Hdf5GroupToDictSelector(selection)    \n",
    "    dataset.data_transforms = [selector]\n",
    "\n",
    "    folder_path = output_path + 'SciNe01EEGBottomTopFiltration'\n",
    "    if not os.path.exists(folder_path):\n",
    "        os.mkdir(folder_path)\n",
    "\n",
    "    file_name_stub = folder_path + '/id_{}__sensor_{}__filt_{}.dipha'    \n",
    "\n",
    "    labels = []\n",
    "    for i, (x, y) in enumerate(dataset):\n",
    "        labels.append(int(y))\n",
    "        for filt, d in x.items():\n",
    "            for sensor_i, dgm in d.items():              \n",
    "                   \n",
    "                points = [(0, birth, death) for birth, death in dgm]\n",
    "                dgm = _PersistenceDiagramFile(points)            \n",
    "                path = file_name_stub.format(str(i), sensor_i, filt)            \n",
    "                with open(path, 'bw') as f:\n",
    "                    dgm.write_to_binary_file(f)\n",
    "        print(i, end='\\r')\n",
    "    np.savetxt(folder_path + '/labels.np', np.array(labels))\n",
    "    print('')\n",
    "    \n",
    "write_scine_eeg()"
   ]
  },
  {
   "cell_type": "code",
   "execution_count": null,
   "metadata": {},
   "outputs": [],
   "source": []
  }
 ],
 "metadata": {
  "kernelspec": {
   "display_name": "Python 3",
   "language": "python",
   "name": "python3"
  },
  "language_info": {
   "codemirror_mode": {
    "name": "ipython",
    "version": 3
   },
   "file_extension": ".py",
   "mimetype": "text/x-python",
   "name": "python",
   "nbconvert_exporter": "python",
   "pygments_lexer": "ipython3",
   "version": "3.7.0"
  }
 },
 "nbformat": 4,
 "nbformat_minor": 2
}
