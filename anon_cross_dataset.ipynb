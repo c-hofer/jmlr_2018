{
 "cells": [
  {
   "cell_type": "code",
   "execution_count": 1,
   "metadata": {},
   "outputs": [
    {
     "name": "stderr",
     "output_type": "stream",
     "text": [
      "/scratch2/chofer/opt/anaconda3/lib/python3.6/site-packages/h5py/__init__.py:36: FutureWarning: Conversion of the second argument of issubdtype from `float` to `np.floating` is deprecated. In future, it will be treated as `np.float64 == np.dtype(float).type`.\n",
      "  from ._conv import register_converters as _register_converters\n"
     ]
    }
   ],
   "source": [
    "import torch    \n",
    "torch.manual_seed(123)\n",
    "import random\n",
    "random.seed(123)\n",
    "\n",
    "import torch.nn as nn\n",
    "import os\n",
    "import shutil\n",
    "import itertools\n",
    "\n",
    "from chofer_torchex.utils.data.collate import dict_sample_target_iter_concat\n",
    "from chofer_torchex.utils.functional import collection_cascade, cuda_cascade\n",
    "from chofer_tda_datasets import Anon10kEigenvaluePredict, Anon1kEigenvaluePredict, Anon50kEigenvaluePredict\n",
    "from chofer_tda_datasets.transforms import Hdf5GroupToDict\n",
    "from jmlr_2018_code.utils import *\n",
    "from chofer_torchex.nn.slayer import SLayerRationalHat, LinearRationalStretchedBirthLifeTimeCoordinateTransform, prepare_batch\n",
    "from sklearn.model_selection import ShuffleSplit\n",
    "from collections import Counter, defaultdict\n",
    "from chofer_torchex.nn.fuctional import histogram_intersection_loss\n",
    "\n",
    "%matplotlib notebook\n",
    "\n",
    "from torch.utils.data import DataLoader\n",
    "\n",
    "os.environ['CUDA_VISIBLE_DEVICES'] = str(0)\n",
    "\n",
    "\n",
    "class train_env:\n",
    "        n_epochs = 100\n",
    "        lr_initial = 0.01\n",
    "        lr_epoch_step = 20\n",
    "        batch_size = 100\n",
    "        train_size = 0.9\n",
    "        nu = 0.01\n",
    "        n_target_bins = 100 \n",
    "\n",
    "\n",
    "class AnonCollate:   \n",
    "    def __init__(self, cuda=True):\n",
    "        self.cuda = cuda\n",
    "        \n",
    "    def __call__(self, sample_target_iter):\n",
    "        x, y = [], []\n",
    "        for x_i, y_i in sample_target_iter:\n",
    "            x.append(x_i)\n",
    "            y.append(y_i)\n",
    "\n",
    "        x = prepare_batch(x, 2)            \n",
    "        y = torch.Tensor(y)\n",
    "\n",
    "        if self.cuda:\n",
    "            # Shifting the necessary parts of the prepared batch to the cuda\n",
    "            x = (x[0].cuda(), x[1].cuda(), x[2], x[3])\n",
    "            y = y.cuda()\n",
    "\n",
    "        return x, y\n",
    "    \n",
    "    \n",
    "coordinate_transform  = LinearRationalStretchedBirthLifeTimeCoordinateTransform(nu=train_env.nu)       \n",
    "    \n",
    "    \n",
    "def normalize(x):\n",
    "    c = x[:, 1].max()    \n",
    "    return x/c\n",
    "\n",
    "\n",
    "data_transforms = [\n",
    "              lambda x: x['dim_0'].value,\n",
    "              lambda x: torch.from_numpy(x).float(), \n",
    "              coordinate_transform,\n",
    "              normalize\n",
    "             ]\n",
    "\n",
    "def histogramize(x):\n",
    "    return np.histogram(x, density=True, bins=train_env.n_target_bins,range=(0,2))[0].tolist()\n",
    "\n",
    "\n",
    "target_transforms = [histogramize]\n",
    "\n",
    "collate = AnonCollate(cuda=False)   "
   ]
  },
  {
   "cell_type": "code",
   "execution_count": 2,
   "metadata": {},
   "outputs": [],
   "source": [
    "def LinearCell(n_in, n_out):\n",
    "    m = nn.Sequential(nn.Linear(n_in, n_out), \n",
    "                      nn.BatchNorm1d(n_out), \n",
    "                      nn.ReLU())\n",
    "    m.out_features = m[0].out_features\n",
    "    return m\n",
    "\n",
    "\n",
    "def Slayer(n_elements, point_dim):\n",
    "    return SLayerRationalHat(n_elements, point_dimension=2, radius_init=0.5)   \n",
    "\n",
    "\n",
    "class AnonCrossDatasetModel(nn.Module):    \n",
    "    def __init__(self):\n",
    "        super().__init__()  \n",
    "        \n",
    "        dim_0_n_elements = 100        \n",
    "        self.dim_0 = Slayer(dim_0_n_elements, 2)          \n",
    "\n",
    "        self.regressor = nn.Sequential(  \n",
    "                                         nn.Tanh(),                                         \n",
    "                                         LinearCell(dim_0_n_elements, 2*train_env.n_target_bins),\n",
    "                                         LinearCell(2*train_env.n_target_bins,train_env.n_target_bins),                                     \n",
    "                                         nn.Linear(train_env.n_target_bins, train_env.n_target_bins))\n",
    "                         \n",
    "    def forward(self, x):\n",
    "        \n",
    "        x = self.dim_0(x)\n",
    "        x = self.regressor(x)        \n",
    "        \n",
    "        return x\n",
    "        \n",
    "    def centers_init(self, sample_target_iter):   \n",
    "        x = [x for x, _ in sample_target_iter]\n",
    "        dim_0 = torch.cat(x, dim=0)\n",
    "        dim_0 = list({tuple(row) for row in dim_0})\n",
    "        dim_0 = np.array(dim_0)\n",
    "        kmeans = sklearn.cluster.KMeans(n_clusters=self.dim_0.centers.size(0), \n",
    "                                        init='k-means++', \n",
    "                                        random_state=123, \n",
    "                                        n_jobs=10, \n",
    "                                        n_init=2, )                           \n",
    "        kmeans.fit(dim_0)\n",
    "        centers = kmeans.cluster_centers_\n",
    "        centers = torch.from_numpy(centers).float()\n",
    "        self.dim_0.centers.data = centers\n"
   ]
  },
  {
   "cell_type": "code",
   "execution_count": 3,
   "metadata": {},
   "outputs": [],
   "source": [
    "def cross_dataset_experiment(dataset_train, dataset_test):     \n",
    "    dataset_train = dataset_train(data_root_folder_path='/scratch1/chofer/jmlr2018_data/')      \n",
    "    dataset_train.data_transforms = data_transforms    \n",
    "    dataset_train.target_transforms = target_transforms    \n",
    "    \n",
    "    dataset_test = dataset_test(data_root_folder_path='/scratch1/chofer/jmlr2018_data/')\n",
    "    dataset_test.data_transforms = data_transforms\n",
    "    dataset_test.target_transforms = target_transforms\n",
    "    \n",
    "    model = AnonCrossDatasetModel()\n",
    "    model.centers_init(dataset_train)\n",
    "    model.cuda()\n",
    "\n",
    "    stats = defaultdict(list)\n",
    "\n",
    "    opt=torch.optim.SGD(model.parameters(), lr=train_env.lr_initial, momentum=0.9)\n",
    "\n",
    "    for i_epoch in range(1, train_env.n_epochs+1):      \n",
    "\n",
    "        model.train()\n",
    "\n",
    "        dl_train = DataLoader(dataset_train,\n",
    "                          batch_size=train_env.batch_size, \n",
    "                          collate_fn=collate,\n",
    "                          shuffle=True, \n",
    "                          num_workers=5)\n",
    "\n",
    "        epoch_loss = 0\n",
    "\n",
    "        if i_epoch % train_env.lr_epoch_step == 0:\n",
    "            adapt_lr(opt, lambda lr: lr*0.5)\n",
    "\n",
    "        for i_batch, (x, y) in enumerate(dl_train, 1):\n",
    "\n",
    "            x = (x[0].cuda(), x[1].cuda(), x[2], x[3])\n",
    "            y = y.cuda()\n",
    "\n",
    "            y = torch.autograd.Variable(y)\n",
    "\n",
    "            def closure():\n",
    "                opt.zero_grad()\n",
    "                y_hat = model(x)            \n",
    "                loss = histogram_intersection_loss(y_hat, y)   \n",
    "                loss.backward()\n",
    "                return loss\n",
    "\n",
    "            loss = opt.step(closure)\n",
    "\n",
    "            epoch_loss += float(loss)\n",
    "            stats['train_loss_by_batch'].append(float(loss))\n",
    "            stats['centers'].append(model.dim_0.centers.data.cpu().numpy())\n",
    "\n",
    "            print(\"Epoch {}/{}, Batch {}/{}\".format(i_epoch, train_env.n_epochs, i_batch, len(dl_train)), end=\"       \\r\")\n",
    "\n",
    "        stats['train_loss_by_epoch'].append(epoch_loss)\n",
    "        \n",
    "    dl_test = DataLoader(dataset_test,\n",
    "                     batch_size=train_env.batch_size, \n",
    "                     collate_fn=collate)\n",
    "\n",
    "    y_true = []\n",
    "    y_pred = []\n",
    "    \n",
    "    model.eval()\n",
    "\n",
    "    for i_batch, (x, y_true_i) in enumerate(dl_test):\n",
    "\n",
    "        x = (x[0].cuda(), x[1].cuda(), x[2], x[3])\n",
    "        y_true_i = y_true_i.cuda()\n",
    "        y_pred_i = model(x)\n",
    "        y_true.append(y_true_i.cpu())\n",
    "        y_pred.append(y_pred_i.data.cpu())\n",
    "\n",
    "    \n",
    "#     for i, (y_true_i, y_pred_i) in enumerate(zip(y_true, y_pred)):\n",
    "#         fig = plt.figure()\n",
    "#         x = np.linspace(0, 2, train_env.n_target_bins)\n",
    "#         plt.plot(x, y_true_i.numpy(), 'go', label='true',)\n",
    "#         plt.plot(x, y_pred_i.numpy(), 'bo', label='pred')\n",
    "#         plt.legend()\n",
    "#         if i == 20:\n",
    "#             break\n",
    "#         plt.savefig('./anon_images/' + str(i) + '.png')\n",
    "\n",
    "#     plt.show()\n",
    "\n",
    "    y_true = torch.cat(y_true, dim=0)\n",
    "    y_pred = torch.cat(y_pred, dim=0)    \n",
    "    stats['y_true'] = y_true.numpy()\n",
    "    stats['y_pred'] = y_pred.numpy()\n",
    "    stats['test_histogram_intersection'] = -histogram_intersection_loss(y_pred, y_true, reduce=False)\n",
    "    stats['model'] = model.cpu()\n",
    "    \n",
    "    return dict(stats)\n",
    "    \n",
    "    "
   ]
  },
  {
   "cell_type": "code",
   "execution_count": 4,
   "metadata": {
    "scrolled": true
   },
   "outputs": [
    {
     "name": "stdout",
     "output_type": "stream",
     "text": [
      "Epoch 100/100, Batch 50/50       \n",
      "0.907078903876693\n",
      "0.04511429491322123\n"
     ]
    }
   ],
   "source": [
    "result_1k_10k = cross_dataset_experiment(Anon1kEigenvaluePredict, Anon10kEigenvaluePredict)\n",
    "print('')\n",
    "print(result_1k_10k['test_histogram_intersection'].mean())\n",
    "print(result_1k_10k['test_histogram_intersection'].std())"
   ]
  },
  {
   "cell_type": "code",
   "execution_count": 5,
   "metadata": {},
   "outputs": [],
   "source": [
    "with open ('/tmp/anon_1k_10k_true.np', 'w') as f:\n",
    "    np.savetxt(f, result_1k_10k['y_true'])\n",
    "    \n",
    "with open ('/tmp/anon_1k_10k_pred.np', 'w') as f:\n",
    "    np.savetxt(f, result_1k_10k['y_pred'])"
   ]
  },
  {
   "cell_type": "code",
   "execution_count": 10,
   "metadata": {},
   "outputs": [
    {
     "name": "stdout",
     "output_type": "stream",
     "text": [
      "Epoch 100/100, Batch 31/31       \n",
      "0.8879265189170837\n",
      "nan\n"
     ]
    }
   ],
   "source": [
    "result_10k_50k = cross_dataset_experiment(Anon10kEigenvaluePredict, Anon50kEigenvaluePredict)\n",
    "print('')\n",
    "print(result_10k_50k['test_histogram_intersection'].mean())\n",
    "print(result_10k_50k['test_histogram_intersection'].std())"
   ]
  },
  {
   "cell_type": "code",
   "execution_count": 17,
   "metadata": {},
   "outputs": [
    {
     "data": {
      "text/plain": [
       "[<matplotlib.lines.Line2D at 0x7f9b305e4e10>]"
      ]
     },
     "execution_count": 17,
     "metadata": {},
     "output_type": "execute_result"
    },
    {
     "data": {
      "image/png": "[encoded data removed]",
      "text/plain": [
       "<Figure size 432x288 with 1 Axes>"
      ]
     },
     "metadata": {},
     "output_type": "display_data"
    }
   ],
   "source": [
    "with open ('/tmp/anon_10k_50k_true.np', 'w') as f:\n",
    "    np.savetxt(f, result_10k_50k['y_true'])\n",
    "    \n",
    "with open ('/tmp/anon_10k_50k_pred.np', 'w') as f:\n",
    "    np.savetxt(f, result_10k_50k['y_pred'])\n",
    "\n",
    "plt.figure()\n",
    "plt.plot(result_10k_50k['y_true'][0], 'go')\n",
    "plt.plot(result_10k_50k['y_pred'][0], 'bo')"
   ]
  },
  {
   "cell_type": "code",
   "execution_count": 22,
   "metadata": {},
   "outputs": [
    {
     "name": "stdout",
     "output_type": "stream",
     "text": [
      "Epoch 100/100, Batch 50/50       \n",
      "0.84757399559021\n",
      "nan\n"
     ]
    }
   ],
   "source": [
    "result_1k_50k = cross_dataset_experiment(Anon1kEigenvaluePredict, Anon50kEigenvaluePredict)\n",
    "print('')\n",
    "print(result_1k_50k['test_histogram_intersection'].mean())\n",
    "print(result_1k_50k['test_histogram_intersection'].std())"
   ]
  },
  {
   "cell_type": "code",
   "execution_count": 23,
   "metadata": {},
   "outputs": [
    {
     "data": {
      "text/plain": [
       "[<matplotlib.lines.Line2D at 0x7f9b2bd4abe0>]"
      ]
     },
     "execution_count": 23,
     "metadata": {},
     "output_type": "execute_result"
    },
    {
     "data": {
      "image/png": "[encoded data removed]",
      "text/plain": [
       "<Figure size 432x288 with 1 Axes>"
      ]
     },
     "metadata": {},
     "output_type": "display_data"
    }
   ],
   "source": [
    "with open ('/tmp/anon_1k_50k_true.np', 'w') as f:\n",
    "    np.savetxt(f, result_1k_50k['y_true'])\n",
    "    \n",
    "with open ('/tmp/anon_1k_50k_pred.np', 'w') as f:\n",
    "    np.savetxt(f, result_1k_50k['y_pred'])\n",
    "\n",
    "plt.figure()\n",
    "plt.plot(result_1k_50k['y_true'][0], 'go')\n",
    "plt.plot(result_1k_50k['y_pred'][0], 'bo')"
   ]
  },
  {
   "cell_type": "code",
   "execution_count": 12,
   "metadata": {
    "scrolled": false
   },
   "outputs": [
    {
     "data": {
      "image/png": "[encoded data removed]",
      "text/plain": [
       "<Figure size 432x288 with 1 Axes>"
      ]
     },
     "metadata": {},
     "output_type": "display_data"
    },
    {
     "data": {
      "image/png": "[encoded data removed]",
      "text/plain": [
       "<Figure size 432x288 with 1 Axes>"
      ]
     },
     "metadata": {},
     "output_type": "display_data"
    }
   ],
   "source": [
    "result = result_1k_10k\n",
    "plt.figure()\n",
    "c_start = result['centers'][0]\n",
    "c_end = result['centers'][-1]\n",
    "\n",
    "plt.plot(c_start[:,0], c_start[:, 1], 'bo', label='center initialization')\n",
    "plt.plot(c_end[:,0], c_end[:, 1], 'ro', label='center learned')\n",
    "\n",
    "all_centers = numpy.stack(result['centers'], axis=0)\n",
    "for i in range(all_centers.shape[1]):\n",
    "    points = all_centers[:,i, :]\n",
    "    plt.plot(points[:, 0], points[:, 1], '-k')\n",
    "    \n",
    "plt.legend()\n",
    "\n",
    "plt.figure()\n",
    "plt.plot(result['train_loss_by_epoch'], label='train_loss')\n",
    "# plt.plot(stats['test_loss_by_epoch'], label='test_loss')\n",
    "\n",
    "\n",
    "plt.legend()\n",
    "plt.show()"
   ]
  },
  {
   "cell_type": "code",
   "execution_count": null,
   "metadata": {},
   "outputs": [],
   "source": []
  }
 ],
 "metadata": {
  "kernelspec": {
   "display_name": "Python 3",
   "language": "python",
   "name": "python3"
  },
  "language_info": {
   "codemirror_mode": {
    "name": "ipython",
    "version": 3
   },
   "file_extension": ".py",
   "mimetype": "text/x-python",
   "name": "python",
   "nbconvert_exporter": "python",
   "pygments_lexer": "ipython3",
   "version": "3.6.4"
  }
 },
 "nbformat": 4,
 "nbformat_minor": 2
}
